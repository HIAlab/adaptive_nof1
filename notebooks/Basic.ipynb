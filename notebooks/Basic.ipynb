{
 "cells": [
  {
   "cell_type": "markdown",
   "id": "fca42c4b-648d-433f-af7a-23a3f149fc56",
   "metadata": {},
   "source": [
    "# Basic Adaptive Policy Trial"
   ]
  },
  {
   "cell_type": "code",
   "execution_count": 57,
   "id": "6c9bacea-5c1a-4892-9b37-d9f4fe3d2c6a",
   "metadata": {
    "tags": []
   },
   "outputs": [
    {
     "name": "stdout",
     "output_type": "stream",
     "text": [
      "The autoreload extension is already loaded. To reload it, use:\n",
      "  %reload_ext autoreload\n"
     ]
    }
   ],
   "source": [
    "%load_ext autoreload\n",
    "%autoreload 2"
   ]
  },
  {
   "cell_type": "code",
   "execution_count": 58,
   "id": "e0ac90c1-039a-4e9a-9c1b-404f854860b2",
   "metadata": {
    "tags": []
   },
   "outputs": [],
   "source": [
    "import matplotlib.pyplot as plt"
   ]
  },
  {
   "cell_type": "code",
   "execution_count": 84,
   "id": "a0baba1d-00c3-46d4-8828-a600d079e20d",
   "metadata": {
    "tags": []
   },
   "outputs": [
    {
     "name": "stdout",
     "output_type": "stream",
     "text": [
      "/\n"
     ]
    }
   ],
   "source": [
    "%cd ..\n",
    "from src import simulation\n",
    "from src.examples import load_basic_simulation"
   ]
  },
  {
   "cell_type": "code",
   "execution_count": 135,
   "id": "18ca5624-2d44-48ac-bc1f-6a280ecac044",
   "metadata": {
    "tags": []
   },
   "outputs": [],
   "source": [
    "simulation = load_basic_simulation()"
   ]
  },
  {
   "cell_type": "code",
   "execution_count": 157,
   "id": "2dd33716-767d-41b7-9cfe-f0f8865cfe56",
   "metadata": {
    "tags": []
   },
   "outputs": [],
   "source": [
    "simulation.step()"
   ]
  },
  {
   "cell_type": "code",
   "execution_count": 137,
   "id": "ab26ccb1-9880-4811-b201-22ee0bac01fa",
   "metadata": {
    "tags": []
   },
   "outputs": [
    {
     "data": {
      "text/plain": [
       "History(observations=[Observation(context={'c': 1.7540249809261736}, treatment=Treatment(i=0), outcome=Outcome())])"
      ]
     },
     "execution_count": 137,
     "metadata": {},
     "output_type": "execute_result"
    }
   ],
   "source": [
    "simulation.history"
   ]
  },
  {
   "cell_type": "code",
   "execution_count": 160,
   "id": "7ebfbc07-22c7-4b6f-b2b0-478b46c7c44e",
   "metadata": {},
   "outputs": [
    {
     "data": {
      "text/plain": [
       "<Axes: ylabel='primary_outcomes'>"
      ]
     },
     "execution_count": 160,
     "metadata": {},
     "output_type": "execute_result"
    },
    {
     "data": {
      "image/png": "[encoded data removed]",
      "text/plain": [
       "<Figure size 640x480 with 1 Axes>"
      ]
     },
     "metadata": {},
     "output_type": "display_data"
    }
   ],
   "source": [
    "ax = plt.axes()\n",
    "simulation.history.plot(ax)"
   ]
  },
  {
   "cell_type": "code",
   "execution_count": null,
   "id": "09351cfd-6e5d-4492-a806-0c1798f82ebe",
   "metadata": {},
   "outputs": [],
   "source": []
  },
  {
   "cell_type": "code",
   "execution_count": null,
   "id": "c2cc05ad-53ee-42dc-b3e0-7b4cb6bddb56",
   "metadata": {},
   "outputs": [],
   "source": []
  }
 ],
 "metadata": {
  "kernelspec": {
   "display_name": "Python 3 (ipykernel)",
   "language": "python",
   "name": "python3"
  },
  "language_info": {
   "codemirror_mode": {
    "name": "ipython",
    "version": 3
   },
   "file_extension": ".py",
   "mimetype": "text/x-python",
   "name": "python",
   "nbconvert_exporter": "python",
   "pygments_lexer": "ipython3",
   "version": "3.11.2"
  }
 },
 "nbformat": 4,
 "nbformat_minor": 5
}
