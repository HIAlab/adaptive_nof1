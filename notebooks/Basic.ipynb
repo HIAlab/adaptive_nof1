{
 "cells": [
  {
   "cell_type": "markdown",
   "id": "fca42c4b-648d-433f-af7a-23a3f149fc56",
   "metadata": {},
   "source": [
    "# Basic Adaptive Policy Trial"
   ]
  },
  {
   "cell_type": "code",
   "execution_count": 1,
   "id": "6c9bacea-5c1a-4892-9b37-d9f4fe3d2c6a",
   "metadata": {
    "tags": []
   },
   "outputs": [],
   "source": [
    "%load_ext autoreload\n",
    "%autoreload 2"
   ]
  },
  {
   "cell_type": "code",
   "execution_count": 4,
   "id": "a0baba1d-00c3-46d4-8828-a600d079e20d",
   "metadata": {
    "tags": []
   },
   "outputs": [
    {
     "name": "stdout",
     "output_type": "stream",
     "text": [
      "/Users/dominikmeier/Nextcloud/Studium/MT/WIP\n"
     ]
    }
   ],
   "source": [
    "%cd ..\n",
    "from src import simulation\n",
    "from src.examples import load_basic_simulation"
   ]
  },
  {
   "cell_type": "code",
   "execution_count": 8,
   "id": "18ca5624-2d44-48ac-bc1f-6a280ecac044",
   "metadata": {
    "tags": []
   },
   "outputs": [],
   "source": [
    "simulation = load_basic_simulation()"
   ]
  },
  {
   "cell_type": "code",
   "execution_count": 17,
   "id": "2dd33716-767d-41b7-9cfe-f0f8865cfe56",
   "metadata": {
    "tags": []
   },
   "outputs": [],
   "source": [
    "simulation.step()"
   ]
  },
  {
   "cell_type": "code",
   "execution_count": 19,
   "id": "ab26ccb1-9880-4811-b201-22ee0bac01fa",
   "metadata": {
    "tags": []
   },
   "outputs": [
    {
     "data": {
      "text/plain": [
       "History(observations=[Observation(context=Context(c=[3.416001793421071]), treatment=0, outcome=0.7239241937117284), Observation(context=Context(c=[-0.5556542825621107]), treatment=1, outcome=-1.0330732478927), Observation(context=Context(c=[-0.10958988845344482]), treatment=0, outcome=0.8697969398349898), Observation(context=Context(c=[2.1701125162972548]), treatment=1, outcome=-1.1345700591623311), Observation(context=Context(c=[-0.5214852027596036]), treatment=0, outcome=0.9449500213285636)])"
      ]
     },
     "execution_count": 19,
     "metadata": {},
     "output_type": "execute_result"
    }
   ],
   "source": [
    "simulation.history"
   ]
  },
  {
   "cell_type": "code",
   "execution_count": null,
   "id": "7ebfbc07-22c7-4b6f-b2b0-478b46c7c44e",
   "metadata": {},
   "outputs": [],
   "source": []
  },
  {
   "cell_type": "code",
   "execution_count": null,
   "id": "09351cfd-6e5d-4492-a806-0c1798f82ebe",
   "metadata": {},
   "outputs": [],
   "source": []
  }
 ],
 "metadata": {
  "kernelspec": {
   "display_name": "Python 3 (ipykernel)",
   "language": "python",
   "name": "python3"
  },
  "language_info": {
   "codemirror_mode": {
    "name": "ipython",
    "version": 3
   },
   "file_extension": ".py",
   "mimetype": "text/x-python",
   "name": "python",
   "nbconvert_exporter": "python",
   "pygments_lexer": "ipython3",
   "version": "3.11.2"
  }
 },
 "nbformat": 4,
 "nbformat_minor": 5
}
